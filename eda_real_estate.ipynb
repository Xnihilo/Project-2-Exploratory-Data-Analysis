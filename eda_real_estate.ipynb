{
 "cells": [
  {
   "cell_type": "markdown",
   "metadata": {},
   "source": [
    "## Review\n",
    "\n",
    "Hi Raymond. My name is Soslan. I'm reviewing your project. I've added all my comments to new cells with different coloring.\n",
    "\n",
    "<div class=\"alert alert-success\" role=\"alert\">\n",
    "  If you did something great I'm using green color for my comment\n",
    "</div>\n",
    "\n",
    "<div class=\"alert alert-warning\" role=\"alert\">\n",
    "If I want to give you advice or think that something can be improved, then I'll use yellow. This is an optional recommendation.\n",
    "</div>\n",
    "\n",
    "<div class=\"alert alert-danger\" role=\"alert\">\n",
    "  If the topic requires some extra work so I can accept it then the color will be red\n",
    "</div>\n",
    "\n",
    "You did correctly almost all the checkpoints in the project. Can you just spend extra time filling missed values? Because you just filled them without an explanation of your decision. Also as an advice, you can add some plots to make your project visually better and easier to read.\n",
    "\n",
    "---"
   ]
  },
  {
   "cell_type": "code",
   "execution_count": null,
   "metadata": {},
   "outputs": [],
   "source": []
  },
  {
   "cell_type": "markdown",
   "metadata": {},
   "source": [
    "## Review (2)\n",
    "\n",
    "Thank you for update. I'm accepting your project. Goood luck with future learning.\n",
    "\n",
    "---"
   ]
  },
  {
   "cell_type": "markdown",
   "metadata": {},
   "source": [
    "# Research on apartment sales ads\n",
    "\n",
    "You will have the data from a real estate agency. It is an archive of sales ads for realty in St. Petersburg, Russia, and the surrounding areas collected over the past few years. You’ll need to learn how to determine the market value of real estate properties. Your task is to define the parameters. This will make it possible to build an automated system that is capable of detecting anomalies and fraudulent activity.\n",
    "\n",
    "There are two different types of data available for every apartment for sale. The first type is a user’s input. The second type is received automatically based upon the map data. For example, the distance from the downtown area, airport, the nearest park or body of water. "
   ]
  },
  {
   "cell_type": "markdown",
   "metadata": {},
   "source": [
    "### Step 1. Open the data file and study the general information. "
   ]
  },
  {
   "cell_type": "code",
   "execution_count": 1,
   "metadata": {},
   "outputs": [
    {
     "ename": "FileNotFoundError",
     "evalue": "[Errno 2] File b'/datasets/real_estate_data_eng.csv' does not exist: b'/datasets/real_estate_data_eng.csv'",
     "output_type": "error",
     "traceback": [
      "\u001b[1;31m---------------------------------------------------------------------------\u001b[0m",
      "\u001b[1;31mFileNotFoundError\u001b[0m                         Traceback (most recent call last)",
      "\u001b[1;32m<ipython-input-1-b8608d25e8ea>\u001b[0m in \u001b[0;36m<module>\u001b[1;34m\u001b[0m\n\u001b[0;32m      2\u001b[0m \u001b[1;32mimport\u001b[0m \u001b[0mnumpy\u001b[0m \u001b[1;32mas\u001b[0m \u001b[0mnp\u001b[0m\u001b[1;33m\u001b[0m\u001b[1;33m\u001b[0m\u001b[0m\n\u001b[0;32m      3\u001b[0m \u001b[1;33m\u001b[0m\u001b[0m\n\u001b[1;32m----> 4\u001b[1;33m \u001b[0mapt_sales\u001b[0m \u001b[1;33m=\u001b[0m \u001b[0mpd\u001b[0m\u001b[1;33m.\u001b[0m\u001b[0mread_csv\u001b[0m\u001b[1;33m(\u001b[0m\u001b[1;34m'/datasets/real_estate_data_eng.csv'\u001b[0m\u001b[1;33m,\u001b[0m \u001b[0msep\u001b[0m\u001b[1;33m=\u001b[0m\u001b[1;34m'\\t'\u001b[0m\u001b[1;33m)\u001b[0m\u001b[1;33m\u001b[0m\u001b[1;33m\u001b[0m\u001b[0m\n\u001b[0m\u001b[0;32m      5\u001b[0m \u001b[0mapt_sales\u001b[0m\u001b[1;33m.\u001b[0m\u001b[0minfo\u001b[0m\u001b[1;33m(\u001b[0m\u001b[1;33m)\u001b[0m\u001b[1;33m\u001b[0m\u001b[1;33m\u001b[0m\u001b[0m\n\u001b[0;32m      6\u001b[0m \u001b[0mapt_sales\u001b[0m\u001b[1;33m.\u001b[0m\u001b[0mhead\u001b[0m\u001b[1;33m(\u001b[0m\u001b[1;36m5\u001b[0m\u001b[1;33m)\u001b[0m\u001b[1;33m\u001b[0m\u001b[1;33m\u001b[0m\u001b[0m\n",
      "\u001b[1;32m~\\Anaconda3\\lib\\site-packages\\pandas\\io\\parsers.py\u001b[0m in \u001b[0;36mparser_f\u001b[1;34m(filepath_or_buffer, sep, delimiter, header, names, index_col, usecols, squeeze, prefix, mangle_dupe_cols, dtype, engine, converters, true_values, false_values, skipinitialspace, skiprows, skipfooter, nrows, na_values, keep_default_na, na_filter, verbose, skip_blank_lines, parse_dates, infer_datetime_format, keep_date_col, date_parser, dayfirst, iterator, chunksize, compression, thousands, decimal, lineterminator, quotechar, quoting, doublequote, escapechar, comment, encoding, dialect, tupleize_cols, error_bad_lines, warn_bad_lines, delim_whitespace, low_memory, memory_map, float_precision)\u001b[0m\n\u001b[0;32m    700\u001b[0m                     skip_blank_lines=skip_blank_lines)\n\u001b[0;32m    701\u001b[0m \u001b[1;33m\u001b[0m\u001b[0m\n\u001b[1;32m--> 702\u001b[1;33m         \u001b[1;32mreturn\u001b[0m \u001b[0m_read\u001b[0m\u001b[1;33m(\u001b[0m\u001b[0mfilepath_or_buffer\u001b[0m\u001b[1;33m,\u001b[0m \u001b[0mkwds\u001b[0m\u001b[1;33m)\u001b[0m\u001b[1;33m\u001b[0m\u001b[1;33m\u001b[0m\u001b[0m\n\u001b[0m\u001b[0;32m    703\u001b[0m \u001b[1;33m\u001b[0m\u001b[0m\n\u001b[0;32m    704\u001b[0m     \u001b[0mparser_f\u001b[0m\u001b[1;33m.\u001b[0m\u001b[0m__name__\u001b[0m \u001b[1;33m=\u001b[0m \u001b[0mname\u001b[0m\u001b[1;33m\u001b[0m\u001b[1;33m\u001b[0m\u001b[0m\n",
      "\u001b[1;32m~\\Anaconda3\\lib\\site-packages\\pandas\\io\\parsers.py\u001b[0m in \u001b[0;36m_read\u001b[1;34m(filepath_or_buffer, kwds)\u001b[0m\n\u001b[0;32m    427\u001b[0m \u001b[1;33m\u001b[0m\u001b[0m\n\u001b[0;32m    428\u001b[0m     \u001b[1;31m# Create the parser.\u001b[0m\u001b[1;33m\u001b[0m\u001b[1;33m\u001b[0m\u001b[1;33m\u001b[0m\u001b[0m\n\u001b[1;32m--> 429\u001b[1;33m     \u001b[0mparser\u001b[0m \u001b[1;33m=\u001b[0m \u001b[0mTextFileReader\u001b[0m\u001b[1;33m(\u001b[0m\u001b[0mfilepath_or_buffer\u001b[0m\u001b[1;33m,\u001b[0m \u001b[1;33m**\u001b[0m\u001b[0mkwds\u001b[0m\u001b[1;33m)\u001b[0m\u001b[1;33m\u001b[0m\u001b[1;33m\u001b[0m\u001b[0m\n\u001b[0m\u001b[0;32m    430\u001b[0m \u001b[1;33m\u001b[0m\u001b[0m\n\u001b[0;32m    431\u001b[0m     \u001b[1;32mif\u001b[0m \u001b[0mchunksize\u001b[0m \u001b[1;32mor\u001b[0m \u001b[0miterator\u001b[0m\u001b[1;33m:\u001b[0m\u001b[1;33m\u001b[0m\u001b[1;33m\u001b[0m\u001b[0m\n",
      "\u001b[1;32m~\\Anaconda3\\lib\\site-packages\\pandas\\io\\parsers.py\u001b[0m in \u001b[0;36m__init__\u001b[1;34m(self, f, engine, **kwds)\u001b[0m\n\u001b[0;32m    893\u001b[0m             \u001b[0mself\u001b[0m\u001b[1;33m.\u001b[0m\u001b[0moptions\u001b[0m\u001b[1;33m[\u001b[0m\u001b[1;34m'has_index_names'\u001b[0m\u001b[1;33m]\u001b[0m \u001b[1;33m=\u001b[0m \u001b[0mkwds\u001b[0m\u001b[1;33m[\u001b[0m\u001b[1;34m'has_index_names'\u001b[0m\u001b[1;33m]\u001b[0m\u001b[1;33m\u001b[0m\u001b[1;33m\u001b[0m\u001b[0m\n\u001b[0;32m    894\u001b[0m \u001b[1;33m\u001b[0m\u001b[0m\n\u001b[1;32m--> 895\u001b[1;33m         \u001b[0mself\u001b[0m\u001b[1;33m.\u001b[0m\u001b[0m_make_engine\u001b[0m\u001b[1;33m(\u001b[0m\u001b[0mself\u001b[0m\u001b[1;33m.\u001b[0m\u001b[0mengine\u001b[0m\u001b[1;33m)\u001b[0m\u001b[1;33m\u001b[0m\u001b[1;33m\u001b[0m\u001b[0m\n\u001b[0m\u001b[0;32m    896\u001b[0m \u001b[1;33m\u001b[0m\u001b[0m\n\u001b[0;32m    897\u001b[0m     \u001b[1;32mdef\u001b[0m \u001b[0mclose\u001b[0m\u001b[1;33m(\u001b[0m\u001b[0mself\u001b[0m\u001b[1;33m)\u001b[0m\u001b[1;33m:\u001b[0m\u001b[1;33m\u001b[0m\u001b[1;33m\u001b[0m\u001b[0m\n",
      "\u001b[1;32m~\\Anaconda3\\lib\\site-packages\\pandas\\io\\parsers.py\u001b[0m in \u001b[0;36m_make_engine\u001b[1;34m(self, engine)\u001b[0m\n\u001b[0;32m   1120\u001b[0m     \u001b[1;32mdef\u001b[0m \u001b[0m_make_engine\u001b[0m\u001b[1;33m(\u001b[0m\u001b[0mself\u001b[0m\u001b[1;33m,\u001b[0m \u001b[0mengine\u001b[0m\u001b[1;33m=\u001b[0m\u001b[1;34m'c'\u001b[0m\u001b[1;33m)\u001b[0m\u001b[1;33m:\u001b[0m\u001b[1;33m\u001b[0m\u001b[1;33m\u001b[0m\u001b[0m\n\u001b[0;32m   1121\u001b[0m         \u001b[1;32mif\u001b[0m \u001b[0mengine\u001b[0m \u001b[1;33m==\u001b[0m \u001b[1;34m'c'\u001b[0m\u001b[1;33m:\u001b[0m\u001b[1;33m\u001b[0m\u001b[1;33m\u001b[0m\u001b[0m\n\u001b[1;32m-> 1122\u001b[1;33m             \u001b[0mself\u001b[0m\u001b[1;33m.\u001b[0m\u001b[0m_engine\u001b[0m \u001b[1;33m=\u001b[0m \u001b[0mCParserWrapper\u001b[0m\u001b[1;33m(\u001b[0m\u001b[0mself\u001b[0m\u001b[1;33m.\u001b[0m\u001b[0mf\u001b[0m\u001b[1;33m,\u001b[0m \u001b[1;33m**\u001b[0m\u001b[0mself\u001b[0m\u001b[1;33m.\u001b[0m\u001b[0moptions\u001b[0m\u001b[1;33m)\u001b[0m\u001b[1;33m\u001b[0m\u001b[1;33m\u001b[0m\u001b[0m\n\u001b[0m\u001b[0;32m   1123\u001b[0m         \u001b[1;32melse\u001b[0m\u001b[1;33m:\u001b[0m\u001b[1;33m\u001b[0m\u001b[1;33m\u001b[0m\u001b[0m\n\u001b[0;32m   1124\u001b[0m             \u001b[1;32mif\u001b[0m \u001b[0mengine\u001b[0m \u001b[1;33m==\u001b[0m \u001b[1;34m'python'\u001b[0m\u001b[1;33m:\u001b[0m\u001b[1;33m\u001b[0m\u001b[1;33m\u001b[0m\u001b[0m\n",
      "\u001b[1;32m~\\Anaconda3\\lib\\site-packages\\pandas\\io\\parsers.py\u001b[0m in \u001b[0;36m__init__\u001b[1;34m(self, src, **kwds)\u001b[0m\n\u001b[0;32m   1851\u001b[0m         \u001b[0mkwds\u001b[0m\u001b[1;33m[\u001b[0m\u001b[1;34m'usecols'\u001b[0m\u001b[1;33m]\u001b[0m \u001b[1;33m=\u001b[0m \u001b[0mself\u001b[0m\u001b[1;33m.\u001b[0m\u001b[0musecols\u001b[0m\u001b[1;33m\u001b[0m\u001b[1;33m\u001b[0m\u001b[0m\n\u001b[0;32m   1852\u001b[0m \u001b[1;33m\u001b[0m\u001b[0m\n\u001b[1;32m-> 1853\u001b[1;33m         \u001b[0mself\u001b[0m\u001b[1;33m.\u001b[0m\u001b[0m_reader\u001b[0m \u001b[1;33m=\u001b[0m \u001b[0mparsers\u001b[0m\u001b[1;33m.\u001b[0m\u001b[0mTextReader\u001b[0m\u001b[1;33m(\u001b[0m\u001b[0msrc\u001b[0m\u001b[1;33m,\u001b[0m \u001b[1;33m**\u001b[0m\u001b[0mkwds\u001b[0m\u001b[1;33m)\u001b[0m\u001b[1;33m\u001b[0m\u001b[1;33m\u001b[0m\u001b[0m\n\u001b[0m\u001b[0;32m   1854\u001b[0m         \u001b[0mself\u001b[0m\u001b[1;33m.\u001b[0m\u001b[0munnamed_cols\u001b[0m \u001b[1;33m=\u001b[0m \u001b[0mself\u001b[0m\u001b[1;33m.\u001b[0m\u001b[0m_reader\u001b[0m\u001b[1;33m.\u001b[0m\u001b[0munnamed_cols\u001b[0m\u001b[1;33m\u001b[0m\u001b[1;33m\u001b[0m\u001b[0m\n\u001b[0;32m   1855\u001b[0m \u001b[1;33m\u001b[0m\u001b[0m\n",
      "\u001b[1;32mpandas/_libs/parsers.pyx\u001b[0m in \u001b[0;36mpandas._libs.parsers.TextReader.__cinit__\u001b[1;34m()\u001b[0m\n",
      "\u001b[1;32mpandas/_libs/parsers.pyx\u001b[0m in \u001b[0;36mpandas._libs.parsers.TextReader._setup_parser_source\u001b[1;34m()\u001b[0m\n",
      "\u001b[1;31mFileNotFoundError\u001b[0m: [Errno 2] File b'/datasets/real_estate_data_eng.csv' does not exist: b'/datasets/real_estate_data_eng.csv'"
     ]
    }
   ],
   "source": [
    "import pandas as pd\n",
    "import numpy as np\n",
    "\n",
    "apt_sales = pd.read_csv('/datasets/real_estate_data_eng.csv', sep='\\t')\n",
    "apt_sales.info()\n",
    "apt_sales.head(5)\n",
    "\n"
   ]
  },
  {
   "cell_type": "code",
   "execution_count": null,
   "metadata": {},
   "outputs": [],
   "source": [
    "display(apt_sales.tail(10))\n",
    "\"This is a last line\""
   ]
  },
  {
   "cell_type": "markdown",
   "metadata": {},
   "source": [
    "### Conclusion"
   ]
  },
  {
   "cell_type": "markdown",
   "metadata": {},
   "source": [
    "The data has values that are missing that need to be dealt with before analysis can be done."
   ]
  },
  {
   "cell_type": "markdown",
   "metadata": {},
   "source": [
    "<div class=\"alert alert-success\" role=\"alert\">\n",
    "Agree :)\n",
    "</div>"
   ]
  },
  {
   "cell_type": "markdown",
   "metadata": {},
   "source": [
    "### Step 2. Data preprocessing"
   ]
  },
  {
   "cell_type": "code",
   "execution_count": null,
   "metadata": {},
   "outputs": [],
   "source": [
    "#Fill the NaN values of these columns with 0\n",
    "apt_sales['balcony'] = apt_sales['balcony'].fillna(0)\n",
    "apt_sales['living_area'] = apt_sales['living_area'].fillna(0)\n",
    "apt_sales['kitchen_area'] = apt_sales['kitchen_area'].fillna(0)\n",
    "apt_sales['parks_around3000'] = apt_sales['parks_around3000'].fillna(0)\n",
    "apt_sales['ponds_around3000'] = apt_sales['ponds_around3000'].fillna(0)\n",
    "apt_sales['cityCenters_nearest'] = apt_sales['cityCenters_nearest'].fillna(0)\n",
    "\n",
    "\n",
    "#Check if the missing data has been changed successfully\n",
    "apt_sales.info()"
   ]
  },
  {
   "cell_type": "code",
   "execution_count": null,
   "metadata": {},
   "outputs": [],
   "source": [
    "#Fill the NaN values of these columns with the avg amount of their respective columns\n",
    "avg_ceil_height = apt_sales['ceiling_height'].mean()\n",
    "apt_sales['ceiling_height'] = apt_sales['ceiling_height'].fillna(avg_ceil_height)\n",
    "\n",
    "avg_airports_nearest = apt_sales['airports_nearest'].mean()\n",
    "apt_sales['airports_nearest'] = apt_sales['airports_nearest'].fillna(avg_airports_nearest)\n",
    "\n",
    "avg_parks_nearest = apt_sales['parks_nearest'].mean()\n",
    "apt_sales['parks_nearest'] = apt_sales['parks_nearest'].fillna(avg_parks_nearest)\n",
    "\n",
    "avg_ponds_nearest = apt_sales['ponds_nearest'].mean()\n",
    "apt_sales['ponds_nearest'] = apt_sales['ponds_nearest'].fillna(avg_ponds_nearest)\n",
    "\n",
    "avg_floors = apt_sales['floors_total'].mean()\n",
    "apt_sales['floors_total'] = apt_sales['floors_total'].fillna(avg_floors)\n",
    "\n",
    "#Check if the missing data has been changed successfully\n",
    "apt_sales.info()\n"
   ]
  },
  {
   "cell_type": "markdown",
   "metadata": {},
   "source": [
    "Data might have been missing from the columns due to human error as it was input or maybe could've been due to different \n",
    "formatting thus resulting in NaN values"
   ]
  },
  {
   "cell_type": "code",
   "execution_count": null,
   "metadata": {},
   "outputs": [],
   "source": [
    "#Change data types of certain columns into int \n",
    "apt_sales['floors_total'] = apt_sales['floors_total'].astype('int')\n",
    "apt_sales['balcony'] = apt_sales['balcony'].astype('int')\n",
    "\n",
    "\n",
    "#Check if the changes went through\n",
    "apt_sales.info()\n",
    "\n",
    "\n",
    "#Data types were changed into int because the column data makes more sense as a whole number"
   ]
  },
  {
   "cell_type": "markdown",
   "metadata": {},
   "source": [
    "<div class=\"alert alert-danger\" role=\"alert\">\n",
    "You changed part of the missed data with 0s and part with means but you have to write a short explanation of why you decide to do so. \n",
    "</div>"
   ]
  },
  {
   "cell_type": "markdown",
   "metadata": {},
   "source": [
    "I decided to change the missing values in balcony, living area, kitchen area, parks around 3000, ponds around 3000, and city centers nearest to 0 because I believe that these were due to human error as the data was entered into the spreadsheet.\n",
    "\n",
    "I decided to change the missing values in ceiling height, airports nearest, parks nearest, ponds nearest, floors total to the average in their respective columns because there should be a value in those columns, but since they weren't in there initially, I chose to use the mean to best estimate the number that could be there."
   ]
  },
  {
   "cell_type": "markdown",
   "metadata": {},
   "source": [
    "### Step 3. Make calculations and add them to the table"
   ]
  },
  {
   "cell_type": "code",
   "execution_count": null,
   "metadata": {},
   "outputs": [],
   "source": [
    "#The price per square meter\n",
    "apt_sales['price_sq_meter'] = apt_sales['last_price'] / apt_sales['total_area']\n",
    "\n",
    "#Check the new columns\n",
    "apt_sales.head(5)"
   ]
  },
  {
   "cell_type": "code",
   "execution_count": null,
   "metadata": {},
   "outputs": [],
   "source": [
    "#The day of the week, month, and year that the ad was published\n",
    "apt_sales['first_day_exposition'] = pd.to_datetime(apt_sales['first_day_exposition'], format='%Y-%m-%dT%H:%M:%S')\n",
    "apt_sales['day_of_week'] = apt_sales['first_day_exposition'].dt.day_name()\n",
    "apt_sales['day'] = apt_sales['first_day_exposition'].dt.day\n",
    "apt_sales['month_name'] = apt_sales['first_day_exposition'].dt.month_name()\n",
    "apt_sales['month'] = apt_sales['first_day_exposition'].dt.month\n",
    "apt_sales['year'] = apt_sales['first_day_exposition'].dt.year\n",
    "\n",
    "\n",
    "#Check the new columns\n",
    "apt_sales.head(5)"
   ]
  },
  {
   "cell_type": "code",
   "execution_count": null,
   "metadata": {},
   "outputs": [],
   "source": [
    "#Location of floor in apartment\n",
    "def floor_location(current, total):\n",
    "    '''\n",
    "    Checks the current floor of apartment room.\n",
    "    '''\n",
    "    if current == total:\n",
    "        return 'last'\n",
    "    elif current == 1:\n",
    "        return 'first'\n",
    "    else:\n",
    "        return 'other'\n",
    "\n",
    "apt_sales['current_floor'] = apt_sales.apply(lambda x: floor_location(x['floor'], x['floors_total']), axis=1)  \n",
    "\n",
    "#Check the new columns\n",
    "apt_sales.head(5)"
   ]
  },
  {
   "cell_type": "code",
   "execution_count": null,
   "metadata": {},
   "outputs": [],
   "source": [
    "#Ratio between the living space and the total area\n",
    "apt_sales['ratio_living_vs_total'] = apt_sales['living_area'] / apt_sales['total_area']\n",
    "apt_sales.info()\n",
    "#Check the new columns\n",
    "apt_sales.head(5)"
   ]
  },
  {
   "cell_type": "code",
   "execution_count": null,
   "metadata": {
    "scrolled": true
   },
   "outputs": [],
   "source": [
    "#Ratio between the kitchen space and the total area\n",
    "apt_sales['ratio_kitchen_vs_total'] = apt_sales['kitchen_area'] / apt_sales['total_area']\n",
    "\n",
    "#Check the new columns\n",
    "apt_sales.head(5)"
   ]
  },
  {
   "cell_type": "markdown",
   "metadata": {},
   "source": [
    "<div class=\"alert alert-success\" role=\"alert\">\n",
    "All the calculations were done correctly\n",
    "</div>"
   ]
  },
  {
   "cell_type": "markdown",
   "metadata": {},
   "source": [
    "### Step 4. Conduct exploratory data analysis and follow the instructions below:"
   ]
  },
  {
   "cell_type": "code",
   "execution_count": null,
   "metadata": {},
   "outputs": [],
   "source": [
    "#Histogram of square area, price, number of rooms, and ceiling height\n",
    "apt_sales.hist('total_area', bins=200, range=(0,500))\n",
    "apt_sales.hist('rooms', bins=25, range=(0,15))\n",
    "apt_sales.hist('last_price', bins=200, range=(0,30000000))\n",
    "apt_sales.hist('ceiling_height', bins=30, range=(0,10))\n"
   ]
  },
  {
   "cell_type": "code",
   "execution_count": null,
   "metadata": {},
   "outputs": [],
   "source": [
    "#Examine the time it's taken to sell the apartment and plot a histogram. \n",
    "apt_sales['days_exposition'].hist(bins=100, range=(0,1500))\n",
    "\n",
    "#Calculate the mean and median and explain the average time it usually takes to complete a sale. \n",
    "avg_exp = apt_sales['days_exposition'].mean()\n",
    "print('Average days to complete a sale:', avg_exp)\n",
    "\n",
    "med_exp = apt_sales['days_exposition'].median()\n",
    "print('Median days to complete a sale:', med_exp)\n",
    "\n",
    "#When can a sale be considered to have happened rather quickly or taken an extra long time?\n",
    "print(apt_sales['days_exposition'].describe())\n"
   ]
  },
  {
   "cell_type": "markdown",
   "metadata": {},
   "source": [
    "<div class=\"alert alert-success\" role=\"alert\">\n",
    "Good\n",
    "</div>"
   ]
  },
  {
   "cell_type": "markdown",
   "metadata": {},
   "source": [
    "After analyzing the data, I would consider any time that's shorter than 10 days to be too quick and \n",
    "time longer than 800 days to be too long\n"
   ]
  },
  {
   "cell_type": "code",
   "execution_count": null,
   "metadata": {},
   "outputs": [],
   "source": [
    "#Remove rare and outlying values and describe the patterns you've discovered.\n",
    "no_outliers = apt_sales.query('days_exposition < 800 & days_exposition > 10')\n",
    "no_outliers['days_exposition'].hist(bins=100, range=(0,900))\n"
   ]
  },
  {
   "cell_type": "markdown",
   "metadata": {},
   "source": [
    "After removing the outliers, examining the histogram seems to reveal that most of the sales occur before 200 days"
   ]
  },
  {
   "cell_type": "code",
   "execution_count": null,
   "metadata": {},
   "outputs": [],
   "source": [
    "#Which factors have had the biggest influence on an apartment’s price? \n",
    "#Examine whether the value depends on the total square area, number of rooms, floor (top or bottom), \n",
    "#or the proximity to the downtown area. \n",
    "print('Correlation btwn value and sq area:', apt_sales['last_price'].corr(apt_sales['total_area']))\n",
    "\n",
    "print('Correlation btwn value and rooms:', apt_sales['last_price'].corr(apt_sales['rooms']))\n",
    "\n",
    "print('Correlation btwn value and first floor:', apt_sales['last_price'].corr(apt_sales['current_floor']=='first'))\n",
    "\n",
    "print('Correlation btwn value and last floor:', apt_sales['last_price'].corr(apt_sales['current_floor']=='last'))\n",
    "\n",
    "print('Correlation btwn value and downtown:', apt_sales['last_price'].corr(apt_sales['cityCenters_nearest']))"
   ]
  },
  {
   "cell_type": "markdown",
   "metadata": {},
   "source": [
    "<div class=\"alert alert-warning\" role=\"alert\">\n",
    "Correct but some plot visualizing correlation would be nice here\n",
    "</div>"
   ]
  },
  {
   "cell_type": "markdown",
   "metadata": {},
   "source": [
    "Analyzing the correlations between the different variables show that the biggest influence on the apartment's price\n",
    "is the total sq area."
   ]
  },
  {
   "cell_type": "code",
   "execution_count": null,
   "metadata": {},
   "outputs": [],
   "source": [
    "#Also study the correlation to the publication date: day of the week, month, and year.\n",
    "print('Correlation btwn value and day of week:', apt_sales['last_price'].corr(apt_sales['day']))\n",
    "\n",
    "print('Correlation btwn value and month:', apt_sales['last_price'].corr(apt_sales['month']))\n",
    "\n",
    "print('Correlation btwn value and year:', apt_sales['last_price'].corr(apt_sales['year']))\n",
    "\n",
    "#Analyzing the correlation for the publication date shows that it doesn't affect the value of the apartment's price."
   ]
  },
  {
   "cell_type": "code",
   "execution_count": null,
   "metadata": {},
   "outputs": [],
   "source": [
    "#Select the 10 localities with the largest number of ads then calculate the average price per square meter in these localities. \n",
    "#Determine which ones have the highest and lowest housing prices. \n",
    "#You can find this data by name in the ’locality_name’ column.\n",
    "\n",
    "top_10_names = apt_sales['locality_name'].value_counts().head(10).index\n",
    "top_10 = apt_sales.query('locality_name in @top_10_names')\n",
    "print(top_10.pivot_table(index='locality_name', values='price_sq_meter', aggfunc='mean'))\n"
   ]
  },
  {
   "cell_type": "markdown",
   "metadata": {},
   "source": [
    "After grouping the data into the top 10 localities and calculating the average price per sq meter, Saint Peterburg has \n",
    "the highest housing prices while Vyborg has the lowest housing prices."
   ]
  },
  {
   "cell_type": "code",
   "execution_count": null,
   "metadata": {
    "scrolled": false
   },
   "outputs": [],
   "source": [
    "#Thoroughly look at apartment offers: Each apartment has information about the distance to the city center. \n",
    "#Select apartments in Saint Petersburg (‘locality_name’). \n",
    "apt_in_petersburg = apt_sales.query('locality_name == \"Saint Peterburg\"')\n",
    "\n",
    "#Your task is to pinpoint which area is considered to be downtown. \n",
    "#In order to do that, create a column with the distance to the city center in km and round to the nearest whole number. \n",
    "apt_in_petersburg['dist_in_km'] = (apt_in_petersburg['cityCenters_nearest'] / 1000).round()\n",
    "\n",
    "#Next, calculate the average price for each kilometer and \n",
    "#plot a graph to display how prices are affected by the distance to the city center. \n",
    "#Find a place on the graph where it shifts significantly. That's the downtown border.\n",
    "price_per_km = apt_in_petersburg.pivot_table(index='dist_in_km', values='price_sq_meter', aggfunc='mean')\n",
    "price_per_km.plot(style='o-', grid=True, figsize=(15,6), xticks=np.arange(0,35,1))\n",
    "\n",
    "#After analyzing the bar graph of the avg price for each km, the price shifts the most when it changes from 7km to 8km. \n",
    "#That is where the downtown border is located."
   ]
  },
  {
   "cell_type": "markdown",
   "metadata": {},
   "source": [
    "<div class=\"alert alert-success\" role=\"alert\">\n",
    "Agree with you\n",
    "</div>"
   ]
  },
  {
   "cell_type": "code",
   "execution_count": null,
   "metadata": {},
   "outputs": [],
   "source": [
    "#Select all the apartments in the downtown and examine correlations between the following parameters: \n",
    "#total area, price, number of rooms, ceiling height. \n",
    "downtown_apt = apt_in_petersburg.query('dist_in_km < 7')\n",
    "\n",
    "print('Correlation btwn downtown and total area:', downtown_apt['dist_in_km'].corr(downtown_apt['total_area']))\n",
    "print('Correlation btwn downtown and price:', downtown_apt['dist_in_km'].corr(downtown_apt['last_price']))\n",
    "print('Correlation btwn downtown and number of rooms:', downtown_apt['dist_in_km'].corr(downtown_apt['rooms']))\n",
    "print('Correlation btwn downtown and ceiling height:', downtown_apt['dist_in_km'].corr(downtown_apt['ceiling_height']))\n",
    "\n",
    "\n",
    "#Also identify the factors that affect an apartment’s price: \n",
    "#number of rooms, floor, distance to the downtown area, and ad publication date. \n",
    "'''\n",
    "factor_apt_price = downtown_apt.pivot_table(index=['rooms', 'floor', 'dist_in_km', 'first_day_exposition'],\n",
    "                                            values='last_price',\n",
    "                                           aggfunc = 'mean')\n",
    "print(factor_apt_price)\n",
    "'''\n",
    "print('')\n",
    "print('Correlation btwn price and rooms:', apt_in_petersburg['last_price'].corr(apt_in_petersburg['rooms']))\n",
    "print('Correlation btwn price and floor:', apt_in_petersburg['last_price'].corr(apt_in_petersburg['floor']))\n",
    "print('Correlation btwn price and distance:', apt_in_petersburg['last_price'].corr(apt_in_petersburg['dist_in_km']))\n",
    "print('Correlation btwn price and ad publication date:', apt_in_petersburg['last_price'].corr(apt_in_petersburg['month']))\n",
    "\n",
    "#Draw your conclusions. Are they different from the overall deductions about the entire city?"
   ]
  },
  {
   "cell_type": "markdown",
   "metadata": {},
   "source": [
    "After analyzing the data, it would seem that the number of rooms plays the largest part in the price of the apartment.\n",
    "The price doesn't seem to be too different from the entire city."
   ]
  },
  {
   "cell_type": "markdown",
   "metadata": {},
   "source": [
    "<div class=\"alert alert-warning\" role=\"alert\">\n",
    "Correct but again some plot visualizing correlation would be nice here\n",
    "</div>"
   ]
  },
  {
   "cell_type": "markdown",
   "metadata": {},
   "source": [
    "### Step 5. Overall conclusion"
   ]
  },
  {
   "cell_type": "markdown",
   "metadata": {},
   "source": [
    "After categorizing the data further and creating various graphs, most apartments are sold around 200 days abd the largest influence on the price of an apartment is the total sq area. A closer examination on the city of Saint Petersburg shows that "
   ]
  },
  {
   "cell_type": "markdown",
   "metadata": {},
   "source": [
    "### Project completion checklist\n",
    "\n",
    "Mark the completed tasks with 'x'. Then press Shift+Enter."
   ]
  },
  {
   "cell_type": "markdown",
   "metadata": {},
   "source": [
    "- [x]  file opened\n",
    "- [ ]  files explored (first rows printed, info() method)\n",
    "- [ ]  missing values determined\n",
    "- [ ]  missing values filled in\n",
    "- [ ]  clarification of the discovered missing values provided\n",
    "- [ ]  data types converted\n",
    "- [ ]  explanation of which columns had the data types changed and why\n",
    "- [ ]  calculated and added to the table: the price per square meter\n",
    "- [ ]  calculated and added to the table: the day of the week, month, and year that the ad was published\n",
    "- [ ]  calculated and added to the table: which floor the apartment is on (first, last, or other)\n",
    "- [ ]  calculated and added to the table: the ratio between the living space and the total area, as well as between the kitchen space and the total area\n",
    "- [ ]  the following parameters investigated: square area, price, number of rooms, and ceiling height\n",
    "- [ ]  histograms for each parameter created\n",
    "- [ ]  task completed: \"Examine the time it's taken to sell the apartment and create a histogram. Calculate the mean and median and explain the average time it usually takes to complete a sale. When can a sale be considered extra quick or taken an extra slow?\"\n",
    "- [ ]  task completed: \"Remove rare and outlying values and describe the specific details you've discovered.\"\n",
    "- [ ]  task completed: \"Which factors have had the biggest influence on an apartment’s value? Examine whether the value depends on price per meter, number of rooms, floor (top or bottom), or the proximity to the downtown area. Also study the correlation to the ad posting date: day of the week, month, and year. \"Select the 10 places with the largest number of ads and then calculate the average price per square meter in these localities. Select the locations with the highest and lowest housing prices. You can find this data by name in the ’*locality_name’* column. \"\n",
    "- [ ]  task completed: \"Thoroughly look at apartment offers: each apartment has information about the distance to the downtown area. Select apartments in Saint Petersburg (*‘locality_name’*). Your task is to pinpoint which area is considered to be downtown. Create a column with the distance to the downtown area in km and round to the nearest whole number. Next, calculate the average price for each kilometer. Build a graph to display how prices are affected by the distance to the downtown area. Define the turning point where the graph significantly changes. This will indicate downtown. \"\n",
    "- [ ]  task completed: \"Select a segment of apartments in the downtown. Analyze this area and examine the following parameters: square area, price, number of rooms, ceiling height. Also identify the factors that affect an apartment’s price (number of rooms, floor, distance to the downtown area, and ad publication date). Draw your conclusions. Are they different from the overall conclusions about the entire city?\"\n",
    "- [ ]  each stage has a conclusion\n",
    "- [ ]  overall conclusion drawn"
   ]
  }
 ],
 "metadata": {
  "kernelspec": {
   "display_name": "Python 3",
   "language": "python",
   "name": "python3"
  },
  "language_info": {
   "codemirror_mode": {
    "name": "ipython",
    "version": 3
   },
   "file_extension": ".py",
   "mimetype": "text/x-python",
   "name": "python",
   "nbconvert_exporter": "python",
   "pygments_lexer": "ipython3",
   "version": "3.7.3"
  }
 },
 "nbformat": 4,
 "nbformat_minor": 2
}
